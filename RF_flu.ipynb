{
 "cells": [
  {
   "cell_type": "code",
   "execution_count": 5,
   "metadata": {},
   "outputs": [
    {
     "name": "stdout",
     "output_type": "stream",
     "text": [
      "MSE: 15082213.680679627\n"
     ]
    },
    {
     "data": {
      "image/png": "[encoded data removed]",
      "text/plain": [
       "<Figure size 432x288 with 1 Axes>"
      ]
     },
     "metadata": {
      "needs_background": "light"
     },
     "output_type": "display_data"
    }
   ],
   "source": [
    "from sklearn.ensemble import RandomForestRegressor\n",
    "from sklearn.metrics import mean_squared_error\n",
    "import utils\n",
    "import matplotlib.pyplot as plt\n",
    "import numpy as np\n",
    "\n",
    "datafile = 'preprocessed_data.csv'\n",
    "\n",
    "window_size = 2\n",
    "start = 2010\n",
    "end = 2019\n",
    "end_train = end - (window_size)*2\n",
    "start_test = end_train + window_size\n",
    "end_test = start_test\n",
    "\n",
    "train_X, train_y, X_mean, X_std, y_mean, y_std, _ = utils.get_data(start, end_train, datafile)\n",
    "test_X, test_y, _, _, _, _, _ = utils.get_data(start_test, end_test, datafile)\n",
    "\n",
    "train_X = ( train_X - X_mean ) / X_std\n",
    "test_X = ( test_X - X_mean ) / X_std\n",
    "\n",
    "train_y = ( train_y - y_mean ) / y_std \n",
    "test_y = ( test_y - y_mean ) / y_std\n",
    "\n",
    "rf = RandomForestRegressor(n_estimators=300, bootstrap=False)\n",
    "rf.fit(train_X, train_y)\n",
    "pred_y = rf.predict(test_X)\n",
    "\n",
    "pred_y = pred_y * y_std - y_mean # de-norm\n",
    "test_y = test_y * y_std - y_mean\n",
    "\n",
    "weeks = [i for i in range(52)]\n",
    "# for i,year in enumerate(range(2010, 2015)):\n",
    "#     plt.plot(weeks, train_y[i], label=year+5)\n",
    "# plt.legend()\n",
    "print(f\"MSE: {mean_squared_error(pred_y, test_y)}\")\n",
    "# compare test_y and pred_y\n",
    "plt.plot(weeks, pred_y[0], label=\"pred\", color=\"blue\")\n",
    "plt.plot(weeks, test_y[0], label=\"true\", color=\"red\")\n",
    "plt.title(f\"Random Forest {end} Week 39 to {end+1} Week 40\")\n",
    "plt.legend()\n",
    "\n",
    "import pickle\n",
    "pickle.dump(pred_y[0], open(\"results/RF_2019_pred_list\", \"wb\"), 2)\n"
   ]
  },
  {
   "cell_type": "code",
   "execution_count": 16,
   "metadata": {},
   "outputs": [],
   "source": [
    "# # randomized search below\n",
    "\n",
    "# from pprint import pprint\n",
    "\n",
    "# print('Parameters currently in use:\\n')\n",
    "# pprint(rf.get_params())"
   ]
  },
  {
   "cell_type": "code",
   "execution_count": 17,
   "metadata": {},
   "outputs": [],
   "source": [
    "# '''\n",
    "# How do we know where to start? A good place is the documentation on the random forest in Scikit-Learn.\n",
    "# This tells us the most important settings are the number of trees in the forest (n_estimators) and the\n",
    "# number of features considered for splitting at each leaf node (max_features).\n",
    "# https://towardsdatascience.com/hyperparameter-tuning-the-random-forest-in-python-using-scikit-learn-28d2aa77dd74 \n",
    "# n_estimators = number of trees in the foreset\n",
    "# max_features = max number of features considered for splitting a node\n",
    "# max_depth = max number of levels in each decision tree\n",
    "# min_samples_split = min number of data points placed in a node before the node is split\n",
    "# min_samples_leaf = min number of data points allowed in a leaf node\n",
    "# bootstrap = method for sampling data points (with or without replacement)\n",
    "# '''\n",
    "# from sklearn.model_selection import RandomizedSearchCV\n",
    "# # Number of trees in random forest\n",
    "# n_estimators = [int(x) for x in np.linspace(start = 100, stop = 2000, num = 10)]\n",
    "# # Number of features to consider at every split\n",
    "# max_features = ['auto', 'sqrt']\n",
    "# # Maximum number of levels in tree\n",
    "# max_depth = [int(x) for x in np.linspace(10, 110, num = 11)]\n",
    "# max_depth.append(None)\n",
    "# # Minimum number of samples required to split a node\n",
    "# min_samples_split = [2, 5, 10]\n",
    "# # Minimum number of samples required at each leaf node\n",
    "# min_samples_leaf = [1, 2, 4]\n",
    "# # Method of selecting samples for training each tree\n",
    "# bootstrap = [True, False]\n",
    "# # Create the random grid\n",
    "# random_grid = {'n_estimators': n_estimators,\n",
    "#                'max_features': max_features,\n",
    "#                'max_depth': max_depth,\n",
    "#                'min_samples_split': min_samples_split,\n",
    "#                'min_samples_leaf': min_samples_leaf,\n",
    "#                'bootstrap': bootstrap}\n",
    "# pprint(random_grid)\n"
   ]
  },
  {
   "cell_type": "code",
   "execution_count": 18,
   "metadata": {},
   "outputs": [],
   "source": [
    "# # Use the random grid to search for best hyperparameters\n",
    "# # First create the base model to tune\n",
    "# rf = RandomForestRegressor()\n",
    "# # Random search of parameters, using 3 fold cross validation, \n",
    "# # search across 100 different combinations, and use all available cores\n",
    "# rf_random = RandomizedSearchCV(estimator = rf, param_distributions = random_grid, n_iter = 100, cv = 3, verbose=2, random_state=42, n_jobs = -1)\n",
    "# # Fit the random search model\n",
    "# rf_random.fit(train_X, train_y)\n",
    "\n",
    "# def evaluate(model, test_features, test_labels):\n",
    "#     predictions = model.predict(test_features)\n",
    "#     errors = abs(predictions - test_labels)\n",
    "#     mape = 100 * np.mean(errors / test_labels)\n",
    "#     accuracy = 100 - mape\n",
    "#     print('Model Performance')\n",
    "#     print('Average Error: {:0.4f} degrees.'.format(np.mean(errors)))\n",
    "#     print('Accuracy = {:0.2f}%.'.format(accuracy))\n",
    "    \n",
    "#     return accuracy\n",
    "# base_model = RandomForestRegressor(n_estimators = 10, random_state = 42)\n",
    "# base_model.fit(train_X, train_y)\n",
    "# base_accuracy = evaluate(base_model, test_X, test_y)\n",
    "\n",
    "# best_random = rf_random.best_estimator_\n",
    "# random_accuracy = evaluate(best_random, test_X, test_y)\n",
    "\n",
    "# print('Improvement of {:0.2f}%.'.format( 100 * (random_accuracy - base_accuracy) / base_accuracy))"
   ]
  },
  {
   "cell_type": "code",
   "execution_count": 19,
   "metadata": {},
   "outputs": [],
   "source": [
    "# results = rf_random.cv_results_\n",
    "# n_top = 5\n",
    "# for i in range(1, n_top + 1):\n",
    "#     candidates = np.flatnonzero(results['rank_test_score'] == i)\n",
    "#     for candidate in candidates:\n",
    "#         print(\"Model with rank: {0}\".format(i))\n",
    "#         print(\"Mean validation score: {0:.3f} (std: {1:.3f})\"\n",
    "#                 .format(results['mean_test_score'][candidate],\n",
    "#                         results['std_test_score'][candidate]))\n",
    "#         print(\"Parameters: {0}\".format(results['params'][candidate]))\n",
    "#         print(\"\")"
   ]
  }
 ],
 "metadata": {
  "interpreter": {
   "hash": "cdfa9ace6613655d28fa2370fe498fbea8375f41a5fc4e643d7f8a581612fdbd"
  },
  "kernelspec": {
   "display_name": "Python 3.8.12 64-bit ('tf-gpu': conda)",
   "language": "python",
   "name": "python3"
  },
  "language_info": {
   "codemirror_mode": {
    "name": "ipython",
    "version": 3
   },
   "file_extension": ".py",
   "mimetype": "text/x-python",
   "name": "python",
   "nbconvert_exporter": "python",
   "pygments_lexer": "ipython3",
   "version": "3.8.8"
  },
  "orig_nbformat": 4
 },
 "nbformat": 4,
 "nbformat_minor": 2
}
