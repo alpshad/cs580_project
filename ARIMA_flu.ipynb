{
 "cells": [
  {
   "cell_type": "code",
   "execution_count": 8,
   "metadata": {},
   "outputs": [
    {
     "name": "stdout",
     "output_type": "stream",
     "text": [
      "            TOTAL CASES\n",
      "TIME                   \n",
      "2010-10-10         45.0\n",
      "2010-10-17         67.0\n",
      "2010-10-24         62.0\n",
      "2010-10-31         88.0\n",
      "2010-11-07        134.0\n",
      "...                 ...\n",
      "2021-09-26         29.0\n",
      "2021-10-03         46.0\n",
      "2021-10-10         58.0\n",
      "2021-10-17         45.0\n",
      "2021-10-24         25.0\n",
      "\n",
      "[575 rows x 1 columns]\n",
      "TOTAL CASES    1936.046957\n",
      "dtype: float64\n",
      "done\n",
      "575\n",
      "predicted=4.007581, expected=3.300185\n",
      "predicted=2.823557, expected=2.992163\n",
      "predicted=2.729523, expected=3.425627\n",
      "predicted=3.657870, expected=4.076213\n",
      "predicted=4.487385, expected=4.935610\n",
      "predicted=5.479849, expected=4.940804\n",
      "predicted=4.834443, expected=4.664727\n",
      "predicted=4.444271, expected=4.154387\n",
      "predicted=3.815586, expected=3.552628\n",
      "predicted=3.244257, expected=3.126436\n",
      "predicted=2.921987, expected=2.457150\n",
      "predicted=2.078000, expected=0.865358\n",
      "predicted=-0.230978, expected=-0.243884\n",
      "predicted=-0.933997, expected=-0.425165\n",
      "predicted=-0.415889, expected=-0.473732\n",
      "predicted=-0.443870, expected=-0.481524\n",
      "predicted=-0.470494, expected=-0.496327\n",
      "predicted=-0.528419, expected=-0.496847\n",
      "predicted=-0.497608, expected=-0.497626\n",
      "predicted=-0.499266, expected=-0.498925\n",
      "predicted=-0.499278, expected=-0.499184\n",
      "predicted=-0.499556, expected=-0.501522\n",
      "predicted=-0.503192, expected=-0.497366\n",
      "predicted=-0.494006, expected=-0.499704\n",
      "predicted=-0.502014, expected=-0.498145\n",
      "predicted=-0.496515, expected=-0.499184\n",
      "predicted=-0.500444, expected=-0.499963\n"
     ]
    },
    {
     "name": "stderr",
     "output_type": "stream",
     "text": [
      "/Users/amypaul/opt/anaconda3/lib/python3.8/site-packages/statsmodels/base/model.py:566: ConvergenceWarning: Maximum Likelihood optimization failed to converge. Check mle_retvals\n",
      "  warnings.warn(\"Maximum Likelihood optimization failed to \"\n"
     ]
    },
    {
     "name": "stdout",
     "output_type": "stream",
     "text": [
      "predicted=-0.500151, expected=-0.499963\n",
      "predicted=-0.500014, expected=-0.498665\n",
      "predicted=-0.497652, expected=-0.501262\n",
      "predicted=-0.503308, expected=-0.500743\n",
      "predicted=-0.500018, expected=-0.500223\n",
      "predicted=-0.500031, expected=-0.501522\n",
      "predicted=-0.502369, expected=-0.499444\n",
      "predicted=-0.497841, expected=-0.500223\n",
      "predicted=-0.501100, expected=-0.499963\n",
      "predicted=-0.499554, expected=-0.500743\n",
      "predicted=-0.501488, expected=-0.495289\n",
      "predicted=-0.491130, expected=-0.498665\n",
      "predicted=-0.501877, expected=-0.492951\n",
      "predicted=-0.488196, expected=-0.488536\n"
     ]
    },
    {
     "name": "stderr",
     "output_type": "stream",
     "text": [
      "/Users/amypaul/opt/anaconda3/lib/python3.8/site-packages/statsmodels/base/model.py:566: ConvergenceWarning: Maximum Likelihood optimization failed to converge. Check mle_retvals\n",
      "  warnings.warn(\"Maximum Likelihood optimization failed to \"\n"
     ]
    },
    {
     "name": "stdout",
     "output_type": "stream",
     "text": [
      "predicted=-0.486417, expected=-0.490094\n",
      "predicted=-0.491385, expected=-0.492951\n",
      "predicted=-0.495076, expected=-0.492951\n",
      "predicted=-0.492681, expected=-0.488796\n",
      "predicted=-0.485658, expected=-0.484121\n",
      "predicted=-0.481167, expected=-0.481264\n",
      "predicted=-0.479773, expected=-0.489055\n",
      "predicted=-0.495182, expected=-0.479706\n",
      "predicted=-0.471950, expected=-0.477108\n",
      "predicted=-0.476627, expected=-0.475290\n",
      "predicted=-0.473668, expected=-0.477108\n",
      "predicted=-0.479234, expected=-0.471395\n",
      "predicted=-0.466859, expected=-0.484900\n",
      "[4.007580708659107, 2.823556534732867, 2.7295228892963133, 3.6578698304809176, 4.487384501059501, 5.479849473579122, 4.834443295807922, 4.444271392465293, 3.8155860793298744, 3.2442572391891704, 2.921987428882372, 2.078000239642769, -0.23097769321860406, -0.933997202184437, -0.41588865870090597, -0.4438703377956197, -0.470493724728522, -0.5284185248242574, -0.49760817686213105, -0.4992660370217348, -0.49927806760442184, -0.4995563611496304, -0.5031917337762893, -0.4940060900851569, -0.5020137040245785, -0.4965148256992193, -0.500443652388419, -0.5001506283783421, -0.5000142610672047, -0.49765179511402835, -0.5033075493268477, -0.5000175807212911, -0.500030730125764, -0.5023691465359952, -0.4978406066985486, -0.5010998291984622, -0.49955436423894545, -0.5014882055633961, -0.4911300201151597, -0.5018765595022872, -0.4881958667596654, -0.48641685359942377, -0.4913854772013551, -0.4950762946328055, -0.49268090600280584, -0.48565786854443693, -0.4811674324790982, -0.47977293022209794, -0.49518175679963966, -0.4719496684712041, -0.476627302945176, -0.4736682645025753, -0.4792342577472378, -0.46685877307146695]\n",
      "[ 1.73667395e+04  1.28078012e+04  1.24457364e+04  1.60202211e+04\n",
      "  1.92141645e+04  2.30355278e+04  2.05504713e+04  1.90481628e+04\n",
      "  1.66274880e+04  1.44276571e+04  1.31867972e+04  9.93712919e+03\n",
      "  1.04669599e+03 -1.66019345e+03  3.34719251e+02  2.26979265e+02\n",
      "  1.24469216e+02 -9.85630439e+01  2.00683801e+01  1.36849952e+01\n",
      "  1.36386729e+01  1.25671381e+01 -1.43041335e+00  3.39377686e+01\n",
      "  3.10544412e+00  2.42781932e+01  9.15073325e+00  1.02789859e+01\n",
      "  1.08040513e+01  1.99004335e+01 -1.87634676e+00  1.07912694e+01\n",
      "  1.07406392e+01  1.73685681e+00  1.91734379e+01  6.62420581e+00\n",
      "  1.25748270e+01  5.12881078e+00  4.50117193e+01  3.63350210e+00\n",
      "  5.63093130e+01  6.31591825e+01  4.40281135e+01  2.98170787e+01\n",
      "  3.90402255e+01  6.60815603e+01  8.33714276e+01  8.87407856e+01\n",
      "  2.94110097e+01  1.18863285e+02  1.00852633e+02  1.12246044e+02\n",
      "  9.08148771e+01  1.38465146e+02]\n"
     ]
    },
    {
     "ename": "ValueError",
     "evalue": "x and y must have same first dimension, but have shapes (52,) and (54,)",
     "output_type": "error",
     "traceback": [
      "\u001b[0;31m---------------------------------------------------------------------------\u001b[0m",
      "\u001b[0;31mValueError\u001b[0m                                Traceback (most recent call last)",
      "\u001b[0;32m<ipython-input-8-f84f4fc22368>\u001b[0m in \u001b[0;36m<module>\u001b[0;34m\u001b[0m\n\u001b[1;32m     52\u001b[0m     \u001b[0mprint\u001b[0m\u001b[0;34m(\u001b[0m\u001b[0mpredictions\u001b[0m\u001b[0;34m)\u001b[0m\u001b[0;34m\u001b[0m\u001b[0;34m\u001b[0m\u001b[0m\n\u001b[1;32m     53\u001b[0m     \u001b[0mtest\u001b[0m \u001b[0;34m=\u001b[0m \u001b[0mnp\u001b[0m\u001b[0;34m.\u001b[0m\u001b[0marray\u001b[0m\u001b[0;34m(\u001b[0m\u001b[0mtest\u001b[0m\u001b[0;34m)\u001b[0m \u001b[0;34m*\u001b[0m \u001b[0mstd\u001b[0m\u001b[0;34m[\u001b[0m\u001b[0;34m\"TOTAL CASES\"\u001b[0m\u001b[0;34m]\u001b[0m \u001b[0;34m+\u001b[0m \u001b[0mmean\u001b[0m\u001b[0;34m[\u001b[0m\u001b[0;34m\"TOTAL CASES\"\u001b[0m\u001b[0;34m]\u001b[0m\u001b[0;34m\u001b[0m\u001b[0;34m\u001b[0m\u001b[0m\n\u001b[0;32m---> 54\u001b[0;31m     \u001b[0mplt\u001b[0m\u001b[0;34m.\u001b[0m\u001b[0mplot\u001b[0m\u001b[0;34m(\u001b[0m\u001b[0mweeks\u001b[0m\u001b[0;34m,\u001b[0m \u001b[0mpredictions\u001b[0m\u001b[0;34m,\u001b[0m \u001b[0mlabel\u001b[0m\u001b[0;34m=\u001b[0m\u001b[0;34m\"pred\"\u001b[0m\u001b[0;34m,\u001b[0m \u001b[0mcolor\u001b[0m\u001b[0;34m=\u001b[0m\u001b[0;34m\"blue\"\u001b[0m\u001b[0;34m)\u001b[0m\u001b[0;34m\u001b[0m\u001b[0;34m\u001b[0m\u001b[0m\n\u001b[0m\u001b[1;32m     55\u001b[0m     \u001b[0mplt\u001b[0m\u001b[0;34m.\u001b[0m\u001b[0mplot\u001b[0m\u001b[0;34m(\u001b[0m\u001b[0mweeks\u001b[0m\u001b[0;34m,\u001b[0m \u001b[0mtest\u001b[0m\u001b[0;34m,\u001b[0m \u001b[0mlabel\u001b[0m\u001b[0;34m=\u001b[0m\u001b[0;34m\"true\"\u001b[0m\u001b[0;34m,\u001b[0m \u001b[0mcolor\u001b[0m\u001b[0;34m=\u001b[0m\u001b[0;34m\"red\"\u001b[0m\u001b[0;34m)\u001b[0m\u001b[0;34m\u001b[0m\u001b[0;34m\u001b[0m\u001b[0m\n\u001b[1;32m     56\u001b[0m     \u001b[0mplt\u001b[0m\u001b[0;34m.\u001b[0m\u001b[0mtitle\u001b[0m\u001b[0;34m(\u001b[0m\u001b[0;34mf\"SARIMA 2019 Week 40 to 2020 Week 39\"\u001b[0m\u001b[0;34m)\u001b[0m\u001b[0;34m\u001b[0m\u001b[0;34m\u001b[0m\u001b[0m\n",
      "\u001b[0;32m~/opt/anaconda3/lib/python3.8/site-packages/matplotlib/pyplot.py\u001b[0m in \u001b[0;36mplot\u001b[0;34m(scalex, scaley, data, *args, **kwargs)\u001b[0m\n\u001b[1;32m   2838\u001b[0m \u001b[0;34m@\u001b[0m\u001b[0m_copy_docstring_and_deprecators\u001b[0m\u001b[0;34m(\u001b[0m\u001b[0mAxes\u001b[0m\u001b[0;34m.\u001b[0m\u001b[0mplot\u001b[0m\u001b[0;34m)\u001b[0m\u001b[0;34m\u001b[0m\u001b[0;34m\u001b[0m\u001b[0m\n\u001b[1;32m   2839\u001b[0m \u001b[0;32mdef\u001b[0m \u001b[0mplot\u001b[0m\u001b[0;34m(\u001b[0m\u001b[0;34m*\u001b[0m\u001b[0margs\u001b[0m\u001b[0;34m,\u001b[0m \u001b[0mscalex\u001b[0m\u001b[0;34m=\u001b[0m\u001b[0;32mTrue\u001b[0m\u001b[0;34m,\u001b[0m \u001b[0mscaley\u001b[0m\u001b[0;34m=\u001b[0m\u001b[0;32mTrue\u001b[0m\u001b[0;34m,\u001b[0m \u001b[0mdata\u001b[0m\u001b[0;34m=\u001b[0m\u001b[0;32mNone\u001b[0m\u001b[0;34m,\u001b[0m \u001b[0;34m**\u001b[0m\u001b[0mkwargs\u001b[0m\u001b[0;34m)\u001b[0m\u001b[0;34m:\u001b[0m\u001b[0;34m\u001b[0m\u001b[0;34m\u001b[0m\u001b[0m\n\u001b[0;32m-> 2840\u001b[0;31m     return gca().plot(\n\u001b[0m\u001b[1;32m   2841\u001b[0m         \u001b[0;34m*\u001b[0m\u001b[0margs\u001b[0m\u001b[0;34m,\u001b[0m \u001b[0mscalex\u001b[0m\u001b[0;34m=\u001b[0m\u001b[0mscalex\u001b[0m\u001b[0;34m,\u001b[0m \u001b[0mscaley\u001b[0m\u001b[0;34m=\u001b[0m\u001b[0mscaley\u001b[0m\u001b[0;34m,\u001b[0m\u001b[0;34m\u001b[0m\u001b[0;34m\u001b[0m\u001b[0m\n\u001b[1;32m   2842\u001b[0m         **({\"data\": data} if data is not None else {}), **kwargs)\n",
      "\u001b[0;32m~/opt/anaconda3/lib/python3.8/site-packages/matplotlib/axes/_axes.py\u001b[0m in \u001b[0;36mplot\u001b[0;34m(self, scalex, scaley, data, *args, **kwargs)\u001b[0m\n\u001b[1;32m   1741\u001b[0m         \"\"\"\n\u001b[1;32m   1742\u001b[0m         \u001b[0mkwargs\u001b[0m \u001b[0;34m=\u001b[0m \u001b[0mcbook\u001b[0m\u001b[0;34m.\u001b[0m\u001b[0mnormalize_kwargs\u001b[0m\u001b[0;34m(\u001b[0m\u001b[0mkwargs\u001b[0m\u001b[0;34m,\u001b[0m \u001b[0mmlines\u001b[0m\u001b[0;34m.\u001b[0m\u001b[0mLine2D\u001b[0m\u001b[0;34m)\u001b[0m\u001b[0;34m\u001b[0m\u001b[0;34m\u001b[0m\u001b[0m\n\u001b[0;32m-> 1743\u001b[0;31m         \u001b[0mlines\u001b[0m \u001b[0;34m=\u001b[0m \u001b[0;34m[\u001b[0m\u001b[0;34m*\u001b[0m\u001b[0mself\u001b[0m\u001b[0;34m.\u001b[0m\u001b[0m_get_lines\u001b[0m\u001b[0;34m(\u001b[0m\u001b[0;34m*\u001b[0m\u001b[0margs\u001b[0m\u001b[0;34m,\u001b[0m \u001b[0mdata\u001b[0m\u001b[0;34m=\u001b[0m\u001b[0mdata\u001b[0m\u001b[0;34m,\u001b[0m \u001b[0;34m**\u001b[0m\u001b[0mkwargs\u001b[0m\u001b[0;34m)\u001b[0m\u001b[0;34m]\u001b[0m\u001b[0;34m\u001b[0m\u001b[0;34m\u001b[0m\u001b[0m\n\u001b[0m\u001b[1;32m   1744\u001b[0m         \u001b[0;32mfor\u001b[0m \u001b[0mline\u001b[0m \u001b[0;32min\u001b[0m \u001b[0mlines\u001b[0m\u001b[0;34m:\u001b[0m\u001b[0;34m\u001b[0m\u001b[0;34m\u001b[0m\u001b[0m\n\u001b[1;32m   1745\u001b[0m             \u001b[0mself\u001b[0m\u001b[0;34m.\u001b[0m\u001b[0madd_line\u001b[0m\u001b[0;34m(\u001b[0m\u001b[0mline\u001b[0m\u001b[0;34m)\u001b[0m\u001b[0;34m\u001b[0m\u001b[0;34m\u001b[0m\u001b[0m\n",
      "\u001b[0;32m~/opt/anaconda3/lib/python3.8/site-packages/matplotlib/axes/_base.py\u001b[0m in \u001b[0;36m__call__\u001b[0;34m(self, data, *args, **kwargs)\u001b[0m\n\u001b[1;32m    271\u001b[0m                 \u001b[0mthis\u001b[0m \u001b[0;34m+=\u001b[0m \u001b[0margs\u001b[0m\u001b[0;34m[\u001b[0m\u001b[0;36m0\u001b[0m\u001b[0;34m]\u001b[0m\u001b[0;34m,\u001b[0m\u001b[0;34m\u001b[0m\u001b[0;34m\u001b[0m\u001b[0m\n\u001b[1;32m    272\u001b[0m                 \u001b[0margs\u001b[0m \u001b[0;34m=\u001b[0m \u001b[0margs\u001b[0m\u001b[0;34m[\u001b[0m\u001b[0;36m1\u001b[0m\u001b[0;34m:\u001b[0m\u001b[0;34m]\u001b[0m\u001b[0;34m\u001b[0m\u001b[0;34m\u001b[0m\u001b[0m\n\u001b[0;32m--> 273\u001b[0;31m             \u001b[0;32myield\u001b[0m \u001b[0;32mfrom\u001b[0m \u001b[0mself\u001b[0m\u001b[0;34m.\u001b[0m\u001b[0m_plot_args\u001b[0m\u001b[0;34m(\u001b[0m\u001b[0mthis\u001b[0m\u001b[0;34m,\u001b[0m \u001b[0mkwargs\u001b[0m\u001b[0;34m)\u001b[0m\u001b[0;34m\u001b[0m\u001b[0;34m\u001b[0m\u001b[0m\n\u001b[0m\u001b[1;32m    274\u001b[0m \u001b[0;34m\u001b[0m\u001b[0m\n\u001b[1;32m    275\u001b[0m     \u001b[0;32mdef\u001b[0m \u001b[0mget_next_color\u001b[0m\u001b[0;34m(\u001b[0m\u001b[0mself\u001b[0m\u001b[0;34m)\u001b[0m\u001b[0;34m:\u001b[0m\u001b[0;34m\u001b[0m\u001b[0;34m\u001b[0m\u001b[0m\n",
      "\u001b[0;32m~/opt/anaconda3/lib/python3.8/site-packages/matplotlib/axes/_base.py\u001b[0m in \u001b[0;36m_plot_args\u001b[0;34m(self, tup, kwargs)\u001b[0m\n\u001b[1;32m    397\u001b[0m \u001b[0;34m\u001b[0m\u001b[0m\n\u001b[1;32m    398\u001b[0m         \u001b[0;32mif\u001b[0m \u001b[0mx\u001b[0m\u001b[0;34m.\u001b[0m\u001b[0mshape\u001b[0m\u001b[0;34m[\u001b[0m\u001b[0;36m0\u001b[0m\u001b[0;34m]\u001b[0m \u001b[0;34m!=\u001b[0m \u001b[0my\u001b[0m\u001b[0;34m.\u001b[0m\u001b[0mshape\u001b[0m\u001b[0;34m[\u001b[0m\u001b[0;36m0\u001b[0m\u001b[0;34m]\u001b[0m\u001b[0;34m:\u001b[0m\u001b[0;34m\u001b[0m\u001b[0;34m\u001b[0m\u001b[0m\n\u001b[0;32m--> 399\u001b[0;31m             raise ValueError(f\"x and y must have same first dimension, but \"\n\u001b[0m\u001b[1;32m    400\u001b[0m                              f\"have shapes {x.shape} and {y.shape}\")\n\u001b[1;32m    401\u001b[0m         \u001b[0;32mif\u001b[0m \u001b[0mx\u001b[0m\u001b[0;34m.\u001b[0m\u001b[0mndim\u001b[0m \u001b[0;34m>\u001b[0m \u001b[0;36m2\u001b[0m \u001b[0;32mor\u001b[0m \u001b[0my\u001b[0m\u001b[0;34m.\u001b[0m\u001b[0mndim\u001b[0m \u001b[0;34m>\u001b[0m \u001b[0;36m2\u001b[0m\u001b[0;34m:\u001b[0m\u001b[0;34m\u001b[0m\u001b[0;34m\u001b[0m\u001b[0m\n",
      "\u001b[0;31mValueError\u001b[0m: x and y must have same first dimension, but have shapes (52,) and (54,)"
     ]
    },
    {
     "data": {
      "image/png": "[encoded data removed]",
      "text/plain": [
       "<Figure size 432x288 with 1 Axes>"
      ]
     },
     "metadata": {
      "needs_background": "light"
     },
     "output_type": "display_data"
    }
   ],
   "source": [
    "import matplotlib.pyplot as plt\n",
    "import pandas\n",
    "from datetime import datetime\n",
    "import numpy as np\n",
    "from statsmodels.tsa.arima.model import ARIMA\n",
    "from sklearn.metrics import mean_squared_error\n",
    "from math import sqrt\n",
    "from sklearn.metrics import mean_squared_error\n",
    "datafile = 'preprocessed_data.csv'\n",
    "\n",
    "def splitData(data, n):\n",
    "    return data[:-n], data[-n:]\n",
    "\n",
    "if __name__ == '__main__':\n",
    "    # Convert data to datetime\n",
    "    data = pandas.read_csv(datafile)\n",
    "    data[\"YEAR\"] = data[\"YEAR\"].astype(str) + \" \" + data[\"WEEK\"].astype(str)\n",
    "    for i in range(data.shape[0]):\n",
    "        data.at[i, \"YEAR\"] = datetime.strptime(data.at[i, \"YEAR\"] + ' 0', \"%Y %W %w\")\n",
    "    data = data.drop(columns=[\"WEEK\", \"REGION\"])\n",
    "    data = data.rename(columns={\"YEAR\": \"TIME\"})\n",
    "    new_data = data.groupby([\"TIME\"]).sum()[\"TOTAL CASES\"]\n",
    "    new_data.to_csv(\"arima_test.csv\")\n",
    "    new_data = pandas.read_csv(\"arima_test.csv\", header=0, index_col=0)\n",
    "    print(new_data)\n",
    "    mean = new_data.mean()\n",
    "    print(mean)\n",
    "    std = new_data.std()\n",
    "    new_data = (new_data - mean) / std \n",
    "    n = 52\n",
    "    print('done')\n",
    "    X = new_data.values\n",
    "    size = 380\n",
    "    print(len(X))\n",
    "    train, test = X[0:size], X[481:533]\n",
    "    history = [x for x in train]\n",
    "    predictions = list()\n",
    "    # walk-forward validation\n",
    "    for t in range(len(test)):\n",
    "        model = ARIMA(history, order=(5,1,0))\n",
    "        model_fit = model.fit()\n",
    "        output = model_fit.forecast()\n",
    "        yhat = output[0]\n",
    "        predictions.append(yhat)\n",
    "        obs = test[t]\n",
    "        history.append(obs)\n",
    "        print('predicted=%f, expected=%f' % (yhat, obs))\n",
    "    # evaluate forecasts\n",
    "    weeks = [i for i in range(52)]\n",
    "    print(predictions)\n",
    "    predictions = np.array(predictions) * std[\"TOTAL CASES\"] + mean[\"TOTAL CASES\"]\n",
    "    print(predictions)\n",
    "    test = np.array(test) * std[\"TOTAL CASES\"] + mean[\"TOTAL CASES\"]\n",
    "    plt.plot(weeks, predictions, label=\"pred\", color=\"blue\")\n",
    "    plt.plot(weeks, test, label=\"true\", color=\"red\")\n",
    "    plt.title(f\"SARIMA 2019 Week 40 to 2020 Week 39\")\n",
    "    week_labels = [i % 52 + 1 for i in range(39, 52+39, 4)]\n",
    "    plt.xticks(weeks[::4], week_labels)\n",
    "    plt.legend()\n",
    "    rmse = sqrt(mean_squared_error(test, predictions))\n",
    "    print('Test RMSE: %.3f' % rmse)\n",
    "    # # plot forecasts against actual outcomes\n",
    "    # plt.plot(test)\n",
    "    # plt.plot(predictions, color='red')\n",
    "    # plt.show()"
   ]
  }
 ],
 "metadata": {
  "interpreter": {
   "hash": "0cf033779a1eb23e9b59def0616496cd94a599c94f1d7576741ea9a8cd0050dd"
  },
  "kernelspec": {
   "display_name": "Python 3.9.6 64-bit ('my-env': conda)",
   "language": "python",
   "name": "python3"
  },
  "language_info": {
   "codemirror_mode": {
    "name": "ipython",
    "version": 3
   },
   "file_extension": ".py",
   "mimetype": "text/x-python",
   "name": "python",
   "nbconvert_exporter": "python",
   "pygments_lexer": "ipython3",
   "version": "3.8.8"
  },
  "orig_nbformat": 4
 },
 "nbformat": 4,
 "nbformat_minor": 2
}
