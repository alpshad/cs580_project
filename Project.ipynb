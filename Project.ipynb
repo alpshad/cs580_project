{
 "cells": [
  {
   "cell_type": "code",
   "execution_count": null,
   "id": "016c0170",
   "metadata": {},
   "outputs": [],
   "source": [
    "import pandas\n",
    "\n",
    "def processData(filename):\n",
    "    data = pandas.read_csv(filename)"
   ]
  }
 ],
 "metadata": {
  "kernelspec": {
   "display_name": "Python 3",
   "language": "python",
   "name": "python3"
  },
  "language_info": {
   "codemirror_mode": {
    "name": "ipython",
    "version": 3
   },
   "file_extension": ".py",
   "mimetype": "text/x-python",
   "name": "python",
   "nbconvert_exporter": "python",
   "pygments_lexer": "ipython3",
   "version": "3.8.8"
  }
 },
 "nbformat": 4,
 "nbformat_minor": 5
}
