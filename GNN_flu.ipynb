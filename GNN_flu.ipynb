{
 "cells": [
  {
   "cell_type": "code",
   "execution_count": 36,
   "metadata": {},
   "outputs": [],
   "source": [
    "'''\n",
    "code copied directly from https://www.dgl.ai/blog/2019/02/17/gat.html \n",
    "'''\n",
    "import torch\n",
    "import torch.nn as nn\n",
    "import torch.nn.functional as F\n",
    "\n",
    "class GATLayer(nn.Module):\n",
    "    def __init__(self, g, in_dim, out_dim):\n",
    "        super(GATLayer, self).__init__()\n",
    "        self.g = g\n",
    "        # equation (1)\n",
    "        self.fc = nn.Linear(in_dim, out_dim, bias=False)\n",
    "        # equation (2)\n",
    "        self.attn_fc = nn.Linear(2 * out_dim, 1, bias=False)\n",
    "    \n",
    "    def edge_attention(self, edges):\n",
    "        # edge UDF for equation (2)\n",
    "        z2 = torch.cat([edges.src['z'], edges.dst['z']], dim=1)\n",
    "        a = self.attn_fc(z2)\n",
    "        return {'e' : F.leaky_relu(a)}\n",
    "    \n",
    "    def message_func(self, edges):\n",
    "        # message UDF for equation (3) & (4)\n",
    "        return {'z' : edges.src['z'], 'e' : edges.data['e']}\n",
    "    \n",
    "    def reduce_func(self, nodes):\n",
    "        # reduce UDF for equation (3) & (4)\n",
    "        # equation (3)\n",
    "        alpha = F.softmax(nodes.mailbox['e'], dim=1)\n",
    "        # equation (4)\n",
    "        h = torch.sum(alpha * nodes.mailbox['z'], dim=1)\n",
    "        return {'h' : h}\n",
    "    \n",
    "    def forward(self, h):\n",
    "        # equation (1)\n",
    "        z = self.fc(h)\n",
    "        self.g.ndata['z'] = z\n",
    "        # equation (2)\n",
    "        self.g.apply_edges(self.edge_attention)\n",
    "        # equation (3) & (4)\n",
    "        self.g.update_all(self.message_func, self.reduce_func)\n",
    "        return self.g.ndata.pop('h')\n",
    "\n",
    "class MultiHeadGATLayer(nn.Module):\n",
    "    def __init__(self, g, in_dim, out_dim, num_heads, merge='cat'):\n",
    "        super(MultiHeadGATLayer, self).__init__()\n",
    "        self.heads = nn.ModuleList()\n",
    "        for i in range(num_heads):\n",
    "            self.heads.append(GATLayer(g, in_dim, out_dim))\n",
    "        self.merge = merge\n",
    "    \n",
    "    def forward(self, h):\n",
    "        head_outs = [attn_head(h) for attn_head in self.heads]\n",
    "        if self.merge == 'cat':\n",
    "            # concat on the output feature dimension (dim=1)\n",
    "            return torch.cat(head_outs, dim=1)\n",
    "        else:\n",
    "            # merge using average\n",
    "            return torch.mean(torch.stack(head_outs))\n",
    "\n",
    "class GAT(nn.Module):\n",
    "    def __init__(self, g, in_dim, hidden_dim, out_dim, num_heads):\n",
    "        super(GAT, self).__init__()\n",
    "        self.layer1 = MultiHeadGATLayer(g, in_dim, hidden_dim, num_heads)\n",
    "        # Be aware that the input dimension is hidden_dim*num_heads since\n",
    "        #   multiple head outputs are concatenated together. Also, only\n",
    "        #   one attention head in the output layer.\n",
    "        self.layer2 = MultiHeadGATLayer(g, hidden_dim * num_heads, out_dim, 1)\n",
    "    \n",
    "    def forward(self, h):\n",
    "        h = self.layer1(h)\n",
    "        h = F.elu(h)\n",
    "        h = self.layer2(h)\n",
    "        return h"
   ]
  },
  {
   "cell_type": "code",
   "execution_count": 37,
   "metadata": {},
   "outputs": [],
   "source": [
    "class STAN(nn.Module):\n",
    "    def __init__(self, g, in_dim, hidden_dim1, hidden_dim2, gru_dim, num_heads, pred_window, device):\n",
    "        super(STAN, self).__init__()\n",
    "        self.g = g\n",
    "        \n",
    "        self.layer1 = MultiHeadGATLayer(self.g, in_dim, hidden_dim1, num_heads)\n",
    "        self.layer2 = MultiHeadGATLayer(self.g, hidden_dim1 * num_heads, hidden_dim2, 1)\n",
    "\n",
    "        self.pred_window = pred_window\n",
    "        self.gru = nn.GRUCell(hidden_dim2, gru_dim)\n",
    "    \n",
    "        self.nn_pred = nn.Linear(gru_dim, pred_window)\n",
    "\n",
    "        self.hidden_dim2 = hidden_dim2\n",
    "        self.gru_dim = gru_dim\n",
    "        self.device = device\n",
    "\n",
    "    def forward(self, dynamic, h=None):\n",
    "        num_loc, timestep, n_feat = dynamic.size()\n",
    "\n",
    "        if h is None:\n",
    "            h = torch.zeros(1, self.gru_dim).to(self.device)\n",
    "            gain = nn.init.calculate_gain('relu')\n",
    "            nn.init.xavier_normal_(h, gain=gain)  \n",
    "\n",
    "        new_pred = []\n",
    "\n",
    "        for each_step in range(timestep):        \n",
    "            cur_h = self.layer1(dynamic[:, each_step, :])\n",
    "            cur_h = F.elu(cur_h)\n",
    "            cur_h = self.layer2(cur_h)\n",
    "            cur_h = F.elu(cur_h)\n",
    "            \n",
    "            cur_h = torch.max(cur_h, 0)[0].reshape(1, self.hidden_dim2)\n",
    "            \n",
    "            h = self.gru(cur_h, h)\n",
    "            \n",
    "            pred_cases = self.nn_pred(h)\n",
    "\n",
    "            new_pred.append(pred_cases)\n",
    "\n",
    "        new_pred = torch.stack(new_pred).to(self.device).permute(1,0,2)\n",
    "\n",
    "        return new_pred, h"
   ]
  },
  {
   "cell_type": "code",
   "execution_count": 38,
   "metadata": {},
   "outputs": [
    {
     "name": "stdout",
     "output_type": "stream",
     "text": [
      "[[  232   279   321   495   725  1386  2004  3292  3603  4650  6935 11898\n",
      "  16568 14643 13457 15126 17631 20940 20960 19897 17932 15615 13974 11397\n",
      "   5268   997   299   112    82    25    23    20    15    14     5    21\n",
      "     12    18    14    11    11    16     6     8    10     5    13    10\n",
      "     11     8    29    16]]\n"
     ]
    }
   ],
   "source": [
    "import utils \n",
    "import numpy as np\n",
    "datafile = 'preprocessed_data.csv'\n",
    "\n",
    "window_size = 2 # train on previous 2 years\n",
    "train_weeks = window_size * 52\n",
    "pred_weeks = 52 # predict 1 year\n",
    "start = 2010\n",
    "end = 2019\n",
    "end_train = end - (window_size)*2\n",
    "start_test = end_train + window_size\n",
    "end_test = start_test\n",
    "\n",
    "# get_data() returns ordered first by week, then by location within each week\n",
    "train_X, train_y, X_mean, X_std, y_mean, y_std, loc_list = utils.get_data(start, end_train, datafile)\n",
    "test_X, test_y, _, _, _, _, _ = utils.get_data(start_test, end_test, datafile)\n",
    "print(test_y.astype(int))\n",
    "\n",
    "train_X = ( train_X - X_mean ) / X_std\n",
    "test_X = ( test_X - X_mean ) / X_std\n",
    "\n",
    "train_y = ( train_y - y_mean ) / y_std \n",
    "test_y = ( test_y - y_mean ) / y_std\n",
    "\n",
    "num_locs = len(loc_list)\n"
   ]
  },
  {
   "cell_type": "code",
   "execution_count": 39,
   "metadata": {},
   "outputs": [
    {
     "name": "stdout",
     "output_type": "stream",
     "text": [
      "(54, 6, 104)\n",
      "(54, 1, 104)\n"
     ]
    }
   ],
   "source": [
    "# we need to re-format our data shape so that it is by location, timestep, features\n",
    "# e.g., 54 locations, timesteps determined by get_data (e.g., 6), window*52 features\n",
    "def reshape_data(X):\n",
    "    spatial_X = []\n",
    "    for time in X:\n",
    "        t = []\n",
    "        for week in range(train_weeks):\n",
    "            w = []\n",
    "            for location in range(num_locs):\n",
    "                w.append(time[week*num_locs + location])\n",
    "            w = np.array(w)\n",
    "            t.append(w)\n",
    "        t = np.array(t)\n",
    "        spatial_X.append(t)\n",
    "    spatial_X = np.array(spatial_X)\n",
    "    new_X = spatial_X.transpose(2, 0, 1)\n",
    "    print(new_X.shape)\n",
    "    return new_X\n",
    "\n",
    "train_X = reshape_data(train_X)\n",
    "test_X = reshape_data(test_X)"
   ]
  },
  {
   "cell_type": "code",
   "execution_count": 40,
   "metadata": {},
   "outputs": [
    {
     "name": "stdout",
     "output_type": "stream",
     "text": [
      "<bound method DGLHeteroGraph.number_of_nodes of Graph(num_nodes=54, num_edges=2916,\n",
      "      ndata_schemes={}\n",
      "      edata_schemes={})>\n"
     ]
    }
   ],
   "source": [
    "import dgl\n",
    "edges = utils.get_edges(train_X, loc_list)\n",
    "g = dgl.graph(edges)\n",
    "print(g.number_of_nodes)"
   ]
  },
  {
   "cell_type": "code",
   "execution_count": 41,
   "metadata": {},
   "outputs": [
    {
     "data": {
      "text/plain": [
       "STAN(\n",
       "  (layer1): MultiHeadGATLayer(\n",
       "    (heads): ModuleList(\n",
       "      (0): GATLayer(\n",
       "        (fc): Linear(in_features=104, out_features=32, bias=False)\n",
       "        (attn_fc): Linear(in_features=64, out_features=1, bias=False)\n",
       "      )\n",
       "    )\n",
       "  )\n",
       "  (layer2): MultiHeadGATLayer(\n",
       "    (heads): ModuleList(\n",
       "      (0): GATLayer(\n",
       "        (fc): Linear(in_features=32, out_features=32, bias=False)\n",
       "        (attn_fc): Linear(in_features=64, out_features=1, bias=False)\n",
       "      )\n",
       "    )\n",
       "  )\n",
       "  (gru): GRUCell(32, 32)\n",
       "  (nn_pred): Linear(in_features=32, out_features=52, bias=True)\n",
       ")"
      ]
     },
     "execution_count": 41,
     "metadata": {},
     "output_type": "execute_result"
    }
   ],
   "source": [
    "in_dim = train_weeks\n",
    "hidden_dim1 = 32\n",
    "hidden_dim2 = 32\n",
    "gru_dim = 32\n",
    "num_heads = 1\n",
    "device = torch.device(\"cuda:0\" if torch.cuda.is_available() else \"cpu\")\n",
    "\n",
    "g = g.to(device)\n",
    "model = STAN(g, in_dim, hidden_dim1, hidden_dim2, gru_dim, num_heads, pred_weeks, device).to(device)\n",
    "optimizer = torch.optim.Adam(model.parameters(), lr=1e-2)\n",
    "criterion = nn.MSELoss()\n",
    "model"
   ]
  },
  {
   "cell_type": "code",
   "execution_count": 42,
   "metadata": {},
   "outputs": [
    {
     "name": "stdout",
     "output_type": "stream",
     "text": [
      "torch.Size([54, 6, 104])\n"
     ]
    }
   ],
   "source": [
    "train_X = torch.tensor(train_X).to(device)\n",
    "train_y = torch.tensor(train_y).to(device)\n",
    "\n",
    "test_X = torch.tensor(test_X).to(device)\n",
    "test_y = torch.tensor(test_y).to(device)\n",
    "\n",
    "print(train_X.size())"
   ]
  },
  {
   "cell_type": "code",
   "execution_count": 43,
   "metadata": {},
   "outputs": [
    {
     "name": "stdout",
     "output_type": "stream",
     "text": [
      "Epoch 0, Loss 1.00990927\n",
      "Epoch 10, Loss 0.27253595\n",
      "Epoch 20, Loss 0.13204364\n",
      "Epoch 30, Loss 0.03586797\n",
      "Epoch 40, Loss 0.02507568\n",
      "Epoch 50, Loss 0.01611703\n",
      "Epoch 60, Loss 0.00990489\n",
      "Epoch 70, Loss 0.00412309\n",
      "Epoch 80, Loss 0.00306113\n",
      "Epoch 90, Loss 0.00401771\n",
      "Epoch 100, Loss 0.00209575\n",
      "Epoch 110, Loss 0.00222013\n",
      "Epoch 120, Loss 0.00113689\n",
      "Epoch 130, Loss 0.00251751\n",
      "Epoch 140, Loss 0.00670313\n",
      "Epoch 150, Loss 0.00123781\n",
      "Epoch 160, Loss 0.00112182\n",
      "Epoch 170, Loss 0.00102572\n",
      "Epoch 180, Loss 0.00088865\n",
      "Epoch 190, Loss 0.00070883\n",
      "Epoch 200, Loss 0.00062644\n",
      "Epoch 210, Loss 0.00047517\n",
      "Epoch 220, Loss 0.00048415\n",
      "Epoch 230, Loss 0.00034148\n",
      "Epoch 240, Loss 0.00053130\n",
      "Epoch 250, Loss 0.00054764\n",
      "Epoch 260, Loss 0.00036793\n",
      "Epoch 270, Loss 0.00028602\n",
      "Epoch 280, Loss 0.00025554\n",
      "Epoch 290, Loss 0.00019381\n",
      "Epoch 300, Loss 0.00021063\n",
      "Epoch 310, Loss 0.00013622\n",
      "Epoch 320, Loss 0.00013052\n",
      "Epoch 330, Loss 0.00013501\n",
      "Epoch 340, Loss 0.00010239\n",
      "Epoch 350, Loss 0.00010750\n",
      "Epoch 360, Loss 0.00015909\n",
      "Epoch 370, Loss 0.00010027\n",
      "Epoch 380, Loss 0.00008784\n",
      "Epoch 390, Loss 0.00014564\n"
     ]
    }
   ],
   "source": [
    "#Train STAN\n",
    "\n",
    "all_loss = []\n",
    "file_name = './save/stan'\n",
    "min_loss = 1e10\n",
    "\n",
    "for epoch in range(400):\n",
    "    model.train()\n",
    "    optimizer.zero_grad()\n",
    "    \n",
    "    pred_cases,  _ = model(train_X)\n",
    "    loss = criterion(pred_cases.squeeze(), train_y)\n",
    "    \n",
    "    loss.backward()\n",
    "    optimizer.step()\n",
    "    all_loss.append(loss.item())\n",
    "    \n",
    "    model.eval()\n",
    "   \n",
    "    if loss < min_loss:    \n",
    "        state = {\n",
    "            'state': model.state_dict(),\n",
    "            'optimizer': optimizer.state_dict(),\n",
    "        }\n",
    "        torch.save(state, file_name)\n",
    "        min_loss = loss\n",
    "        #print('-----Save best model-----')\n",
    "    if epoch % 10 == 0:\n",
    "        print('Epoch %d, Loss %.8f'%(epoch, all_loss[-1]))"
   ]
  },
  {
   "cell_type": "code",
   "execution_count": 44,
   "metadata": {},
   "outputs": [],
   "source": [
    "#Pred with STAN\n",
    "file_name = './save/stan'\n",
    "checkpoint = torch.load(file_name)\n",
    "model.load_state_dict(checkpoint['state'])\n",
    "optimizer.load_state_dict(checkpoint['optimizer'])\n",
    "model.eval()\n",
    "\n",
    "prev_pred, h = model(train_X)\n",
    "pred_y, _ = model(test_X, h=h)\n",
    "\n",
    "pred_y = pred_y.detach().cpu().numpy()[0] # only one timestep \n",
    "test_y = test_y.detach().cpu().numpy()"
   ]
  },
  {
   "cell_type": "code",
   "execution_count": 45,
   "metadata": {},
   "outputs": [
    {
     "name": "stdout",
     "output_type": "stream",
     "text": [
      "MSE: 11968507.0\n"
     ]
    },
    {
     "data": {
      "image/png": "[encoded data removed]",
      "text/plain": [
       "<Figure size 432x288 with 1 Axes>"
      ]
     },
     "metadata": {
      "needs_background": "light"
     },
     "output_type": "display_data"
    }
   ],
   "source": [
    "import matplotlib.pyplot as plt\n",
    "from sklearn.metrics import mean_squared_error\n",
    "\n",
    "pred_y = pred_y * y_std + y_mean # de-norm\n",
    "test_y = test_y * y_std + y_mean\n",
    "\n",
    "weeks = [i for i in range(52)]\n",
    "print(f\"MSE: {mean_squared_error(pred_y, test_y)}\")\n",
    "# compare test_y and pred_y\n",
    "plt.plot(weeks, pred_y[0], label=\"pred\", color=\"blue\")\n",
    "plt.plot(weeks, test_y[0], label=\"true\", color=\"red\")\n",
    "plt.title(f\"GNN {end} Week 40 to {end+1} Week 39\")\n",
    "plt.xlabel(\"Week\")\n",
    "plt.ylabel(\"Total US Influenza Cases\")\n",
    "plt.legend()\n",
    "\n",
    "week_labels = [i%52 + 1 for i in range(39, 52+39, 4)]\n",
    "_, _ = plt.xticks(weeks[::4], week_labels)\n",
    "\n",
    "import pickle\n",
    "pickle.dump(pred_y[0], open(\"results/GNN_2019_pred_list\", \"wb\"), 2)"
   ]
  },
  {
   "cell_type": "code",
   "execution_count": 48,
   "metadata": {},
   "outputs": [
    {
     "name": "stdout",
     "output_type": "stream",
     "text": [
      "(54, 1, 104)\n"
     ]
    },
    {
     "data": {
      "image/png": "[encoded data removed]",
      "text/plain": [
       "<Figure size 432x288 with 1 Axes>"
      ]
     },
     "metadata": {
      "needs_background": "light"
     },
     "output_type": "display_data"
    }
   ],
   "source": [
    "end = 2021\n",
    "test_X, test_y, _, _, _, _, _ = utils.get_data(2019, 2019, datafile)\n",
    "test_X = ( test_X - X_mean ) / X_std\n",
    "\n",
    "test_X = reshape_data(test_X)\n",
    "\n",
    "test_X = torch.tensor(test_X).to(device)\n",
    "\n",
    "pred_y, _ = model(test_X, h=h)\n",
    "pred_y = pred_y.detach().cpu().numpy()[0]\n",
    "pred_y = pred_y * y_std + y_mean # de-norm\n",
    "#test_y = test_y * y_std + y_mean\n",
    "\n",
    "weeks = [i for i in range(52)]\n",
    "#print(f\"MSE: {mean_squared_error(pred_y, test_y)}\")\n",
    "# compare test_y and pred_y\n",
    "plt.plot(weeks, pred_y[0], label=\"pred\", color=\"blue\")\n",
    "#plt.plot(weeks, test_y[0], label=\"true\", color=\"red\")\n",
    "plt.title(f\"GNN {end} Week 40 to {end+1} Week 39\")\n",
    "plt.xlabel(\"Week\")\n",
    "plt.ylabel(\"Total US Influenza Cases\")\n",
    "plt.legend()\n",
    "\n",
    "week_labels = [i%52 + 1 for i in range(39, 52+39, 4)]\n",
    "_, _ = plt.xticks(weeks[::4], week_labels)\n",
    "\n",
    "import pickle\n",
    "pickle.dump(pred_y[0], open(\"results/GNN_2021_pred_list\", \"wb\"), 2)"
   ]
  }
 ],
 "metadata": {
  "interpreter": {
   "hash": "cdfa9ace6613655d28fa2370fe498fbea8375f41a5fc4e643d7f8a581612fdbd"
  },
  "kernelspec": {
   "display_name": "Python 3.8.12 64-bit ('tf-gpu': conda)",
   "language": "python",
   "name": "python3"
  },
  "language_info": {
   "codemirror_mode": {
    "name": "ipython",
    "version": 3
   },
   "file_extension": ".py",
   "mimetype": "text/x-python",
   "name": "python",
   "nbconvert_exporter": "python",
   "pygments_lexer": "ipython3",
   "version": "3.8.12"
  },
  "orig_nbformat": 4
 },
 "nbformat": 4,
 "nbformat_minor": 2
}
