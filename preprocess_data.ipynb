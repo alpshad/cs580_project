{
 "cells": [
  {
   "cell_type": "code",
   "execution_count": 28,
   "metadata": {},
   "outputs": [
    {
     "name": "stdout",
     "output_type": "stream",
     "text": [
      "  REGION TYPE      REGION  YEAR  WEEK TOTAL SPECIMENS  TOTAL A  TOTAL B  \\\n",
      "0      States     Alabama  2015    40             167      2.0      3.0   \n",
      "1      States      Alaska  2015    40               X      0.0      0.0   \n",
      "2      States     Arizona  2015    40              55      0.0      0.0   \n",
      "3      States    Arkansas  2015    40              26      0.0      1.0   \n",
      "4      States  California  2015    40             683      2.0      0.0   \n",
      "\n",
      "  PERCENT POSITIVE PERCENT A PERCENT B  TOTAL CASES  \n",
      "0             2.99       1.2       1.8          5.0  \n",
      "1                X         X         X          0.0  \n",
      "2                0         0         0          0.0  \n",
      "3             3.85         0      3.85          1.0  \n",
      "4             0.29      0.29         0          2.0  \n",
      "      REGION TYPE          REGION  YEAR  WEEK TOTAL SPECIMENS  TOTAL A  \\\n",
      "17059      States       Wisconsin  2021    42               X      0.0   \n",
      "17060      States         Wyoming  2021    42               X      0.0   \n",
      "17061      States     Puerto Rico  2021    42               0      0.0   \n",
      "17062      States  Virgin Islands  2021    42               X      0.0   \n",
      "17063      States   New York City  2021    42               X      0.0   \n",
      "\n",
      "       TOTAL B PERCENT POSITIVE PERCENT A PERCENT B  TOTAL CASES  \n",
      "17059      0.0                X         X         X          0.0  \n",
      "17060      0.0                X         X         X          0.0  \n",
      "17061      0.0                0         0         0          0.0  \n",
      "17062      0.0                X         X         X          0.0  \n",
      "17063      0.0                X         X         X          0.0  \n"
     ]
    }
   ],
   "source": [
    "import pandas as pd\n",
    "\n",
    "df1 = pd.read_csv(\"FluViewPhase2Data/WHO_NREVSS_Clinical_Labs.csv\", skiprows=1)\n",
    "df2 = pd.read_csv(\"FluViewPhase2Data/WHO_NREVSS_Combined_prior_to_2015_16.csv\", skiprows=1)\n",
    "\n",
    "#print(df1.head())\n",
    "#print(df2.head())\n",
    "df1_virus_list = [\"TOTAL A\", \"TOTAL B\"]\n",
    "df2_virus_list = [\"A (2009 H1N1)\", \"A (H1)\", \"A (H3)\", \"A (Subtyping not Performed)\", \"A (Unable to Subtype)\", \"B\", \"H3N2v\"]\n",
    "\n",
    "for c in df1_virus_list:\n",
    "    df1[c] = pd.to_numeric(df1[c], errors='coerce')\n",
    "    df1[c].fillna(0, inplace=True)\n",
    "for c in df2_virus_list:\n",
    "    df2[c] = pd.to_numeric(df2[c], errors='coerce')\n",
    "    df2[c].fillna(0, inplace=True)\n",
    "\n",
    "df1[\"TOTAL CASES\"] = sum(df1[c] for c in df1_virus_list)\n",
    "df2[\"TOTAL CASES\"] = sum(df2[c] for c in df2_virus_list)\n",
    "\n",
    "print(df1.head())\n",
    "print(df1.tail())\n",
    "#print(df2.head())\n",
    "\n",
    "# region, year, week, total cases"
   ]
  },
  {
   "cell_type": "code",
   "execution_count": 29,
   "metadata": {},
   "outputs": [
    {
     "name": "stdout",
     "output_type": "stream",
     "text": [
      "       REGION  YEAR  WEEK  TOTAL CASES\n",
      "0     Alabama  2010    40          0.0\n",
      "1      Alaska  2010    40          0.0\n",
      "2     Arizona  2010    40          1.0\n",
      "3    Arkansas  2010    40          0.0\n",
      "4  California  2010    40          6.0\n",
      "               REGION  YEAR  WEEK  TOTAL CASES\n",
      "17059       Wisconsin  2021    42          0.0\n",
      "17060         Wyoming  2021    42          0.0\n",
      "17061     Puerto Rico  2021    42          0.0\n",
      "17062  Virgin Islands  2021    42          0.0\n",
      "17063   New York City  2021    42          0.0\n"
     ]
    }
   ],
   "source": [
    "df1 = df1[['REGION','YEAR','WEEK','TOTAL CASES']]\n",
    "df2 = df2[['REGION','YEAR','WEEK','TOTAL CASES']]\n",
    "\n",
    "new_df = pd.concat([df2, df1])\n",
    "print(new_df.head())\n",
    "print(new_df.tail())\n",
    "new_df.to_csv(\"preprocessed_data.csv\")"
   ]
  }
 ],
 "metadata": {
  "interpreter": {
   "hash": "cdfa9ace6613655d28fa2370fe498fbea8375f41a5fc4e643d7f8a581612fdbd"
  },
  "kernelspec": {
   "display_name": "Python 3.8.12 64-bit ('tf-gpu': conda)",
   "name": "python3"
  },
  "language_info": {
   "codemirror_mode": {
    "name": "ipython",
    "version": 3
   },
   "file_extension": ".py",
   "mimetype": "text/x-python",
   "name": "python",
   "nbconvert_exporter": "python",
   "pygments_lexer": "ipython3",
   "version": "3.8.12"
  },
  "orig_nbformat": 4
 },
 "nbformat": 4,
 "nbformat_minor": 2
}
